{
 "cells": [
  {
   "cell_type": "markdown",
   "id": "6e76096e",
   "metadata": {
    "vscode": {
     "languageId": "plaintext"
    }
   },
   "source": [
    "# Pipeline для распознавания попугаев: этап детекции и обрезки\n",
    "\n",
    "Этапы:\n",
    "1. Загрузка и предобработка изображения\n",
    "2. Детекция попугая с помощью модели (YOLO или DETR)\n",
    "3. Обрезка изображения по bounding box'у"
   ]
  },
  {
   "cell_type": "code",
   "execution_count": null,
   "id": "4924b46d",
   "metadata": {},
   "outputs": [],
   "source": [
    "!pip install -r requirements.txt"
   ]
  },
  {
   "cell_type": "code",
   "execution_count": null,
   "id": "e35eff96",
   "metadata": {},
   "outputs": [],
   "source": [
    "import cv2\n",
    "import numpy as np\n",
    "import matplotlib.pyplot as plt\n",
    "from PIL import Image\n",
    "import torch\n",
    "from torchvision import transforms\n",
    "import requests\n",
    "from io import BytesIO\n",
    "%matplotlib inline"
   ]
  },
  {
   "cell_type": "markdown",
   "id": "1838b37a",
   "metadata": {},
   "source": [
    "## Вспомогательные функции для визуализации"
   ]
  },
  {
   "cell_type": "code",
   "execution_count": null,
   "id": "fb9e616f",
   "metadata": {},
   "outputs": [],
   "source": [
    "def plot_image(img, title=\"Image\"):\n",
    "    \"\"\"Отображение изображения\"\"\"\n",
    "    if isinstance(img, torch.Tensor):\n",
    "        img = img.numpy().transpose((1, 2, 0))\n",
    "    elif isinstance(img, np.ndarray):\n",
    "        if img.shape[0] == 3:  # CHW -> HWC\n",
    "            img = img.transpose((1, 2, 0))\n",
    "    plt.imshow(img)\n",
    "    plt.title(title)\n",
    "    plt.axis('off')\n",
    "    plt.show()\n",
    "\n",
    "def load_image_from_url(url):\n",
    "    \"\"\"Загрузка изображения по URL\"\"\"\n",
    "    response = requests.get(url)\n",
    "    img = Image.open(BytesIO(response.content))\n",
    "    return img"
   ]
  },
  {
   "cell_type": "markdown",
   "id": "d0d15f28",
   "metadata": {},
   "source": [
    "\n",
    "## 1. Загрузка изображения"
   ]
  },
  {
   "cell_type": "code",
   "execution_count": null,
   "id": "a1993674",
   "metadata": {},
   "outputs": [],
   "source": [
    "# Пример изображения с попугаем (можно заменить на любое другое)\n",
    "image_path = \"dataset/test3.jpg\"\n",
    "\n",
    "try:\n",
    "    image = Image.open(image_path)\n",
    "except FileNotFoundError:\n",
    "    raise FileNotFoundError(f\"Файл {image_path} не найден. Убедитесь, что он находится в рабочей директории.\")\n",
    "\n",
    "# Преобразование в тензор и отображение\n",
    "transform = transforms.ToTensor()\n",
    "img_tensor = transform(image)\n",
    "plot_image(img_tensor, \"Original Image\")"
   ]
  },
  {
   "cell_type": "markdown",
   "id": "fba403dd",
   "metadata": {},
   "source": [
    "## 2. Детекция попугая с помощью YOLO"
   ]
  },
  {
   "cell_type": "code",
   "execution_count": null,
   "id": "59db93a7",
   "metadata": {},
   "outputs": [],
   "source": [
    "# Загрузка YOLOv5 (можно заменить на YOLOv8 или другую версию)\n",
    "model_yolo = torch.hub.load('ultralytics/yolov5', 'yolov5s', pretrained=True)"
   ]
  },
  {
   "cell_type": "code",
   "execution_count": null,
   "id": "1bf18369",
   "metadata": {},
   "outputs": [],
   "source": [
    "# Детекция объектов\n",
    "results = model_yolo([image])\n",
    "\n",
    "# Отображение результатов детекции\n",
    "results.print()\n",
    "results.show()"
   ]
  },
  {
   "cell_type": "code",
   "execution_count": null,
   "id": "f256f413",
   "metadata": {},
   "outputs": [],
   "source": [
    "# Получение bounding box'а для попугая (класс 'bird')\n",
    "detections = results.pandas().xyxy[0]\n",
    "parrot_boxes = detections[detections['name'] == 'bird']\n",
    "\n",
    "if len(parrot_boxes) == 0:\n",
    "    raise ValueError(\"На изображении не обнаружено попугаев\")\n",
    "\n",
    "# Берем первый обнаруженный bounding box (можно добавить логику для выбора нужного)\n",
    "bbox = parrot_boxes.iloc[0][['xmin', 'ymin', 'xmax', 'ymax']].values.astype(int)\n",
    "print(f\"Bounding box попугая: {bbox}\")"
   ]
  },
  {
   "cell_type": "markdown",
   "id": "1de26fa0",
   "metadata": {},
   "source": [
    "## Альтернатива: Детекция с помощью DETR"
   ]
  },
  {
   "cell_type": "code",
   "execution_count": null,
   "id": "16edd038",
   "metadata": {},
   "outputs": [],
   "source": [
    "from transformers import DetrImageProcessor, DetrForObjectDetection"
   ]
  },
  {
   "cell_type": "code",
   "execution_count": null,
   "id": "e99a4aae",
   "metadata": {},
   "outputs": [],
   "source": [
    "processor = DetrImageProcessor.from_pretrained(\"facebook/detr-resnet-50\")\n",
    "model_detr = DetrForObjectDetection.from_pretrained(\"facebook/detr-resnet-50\")"
   ]
  },
  {
   "cell_type": "code",
   "execution_count": null,
   "id": "c308959e",
   "metadata": {},
   "outputs": [],
   "source": [
    "inputs = processor(images=image, return_tensors=\"pt\")\n",
    "outputs = model_detr(**inputs)\n",
    "\n",
    "# Конвертируем outputs в bounding boxes\n",
    "target_sizes = torch.tensor([image.size[::-1]])\n",
    "results_detr = processor.post_process_object_detection(\n",
    "    outputs, target_sizes=target_sizes, threshold=0.9\n",
    ")[0]"
   ]
  },
  {
   "cell_type": "code",
   "execution_count": null,
   "id": "a1af0942",
   "metadata": {},
   "outputs": [],
   "source": [
    "# Ищем птиц (класс 16 в COCO)\n",
    "bird_indices = [i for i, label in enumerate(results_detr[\"labels\"]) if label == 16]\n",
    "\n",
    "if not bird_indices:\n",
    "    raise ValueError(\"DETR не обнаружил птиц на изображении\")\n",
    "\n",
    "# Берем первый обнаруженный bounding box\n",
    "bbox_detr = results_detr[\"boxes\"][bird_indices[0]].int().tolist()\n",
    "print(f\"DETR Bounding box попугая: {bbox_detr}\")"
   ]
  },
  {
   "cell_type": "code",
   "execution_count": null,
   "id": "85682f0e",
   "metadata": {},
   "outputs": [],
   "source": [
    "# Визуализация\n",
    "img_with_boxes = np.array(image.copy())\n",
    "cv2.rectangle(\n",
    "    img_with_boxes,\n",
    "    (bbox_detr[0], bbox_detr[1]),\n",
    "    (bbox_detr[2], bbox_detr[3]),\n",
    "    (255, 0, 0),\n",
    "    2\n",
    ")\n",
    "plt.imshow(img_with_boxes)\n",
    "plt.title(\"DETR Detection\")\n",
    "plt.axis('off')\n",
    "plt.show()"
   ]
  },
  {
   "cell_type": "markdown",
   "id": "4c4b44ec",
   "metadata": {},
   "source": [
    "## 3. Обрезка изображения по bounding box'у"
   ]
  },
  {
   "cell_type": "code",
   "execution_count": null,
   "id": "085b6919",
   "metadata": {},
   "outputs": [],
   "source": [
    "def crop_image(img, bbox):\n",
    "    \"\"\"Обрезка изображения по bounding box'у\"\"\"\n",
    "    if isinstance(img, torch.Tensor):\n",
    "        img = img.numpy().transpose((1, 2, 0))\n",
    "    \n",
    "    xmin, ymin, xmax, ymax = bbox\n",
    "    cropped = img[ymin:ymax, xmin:xmax]\n",
    "    return cropped"
   ]
  },
  {
   "cell_type": "code",
   "execution_count": null,
   "id": "778a0781",
   "metadata": {},
   "outputs": [],
   "source": [
    "# Обрезка с использованием YOLO bbox\n",
    "cropped_img = crop_image(img_tensor, bbox)\n",
    "plot_image(cropped_img, \"Cropped Image (YOLO)\")"
   ]
  },
  {
   "cell_type": "code",
   "execution_count": null,
   "id": "098b6b30",
   "metadata": {},
   "outputs": [],
   "source": [
    "# Обрезка с использованием DETR bbox\n",
    "cropped_img_detr = crop_image(img_tensor, bbox_detr)\n",
    "plot_image(cropped_img_detr, \"Cropped Image (DETR)\")"
   ]
  },
  {
   "cell_type": "markdown",
   "id": "9f264ec6",
   "metadata": {},
   "source": [
    "## Сохранение обрезанного изображения для следующего этапа"
   ]
  },
  {
   "cell_type": "code",
   "execution_count": null,
   "id": "4644c577",
   "metadata": {},
   "outputs": [],
   "source": [
    "from torchvision.utils import save_image\n",
    "\n",
    "# Сохраняем обрезанное изображение\n",
    "cropped_tensor = transforms.ToTensor()(Image.fromarray((cropped_img * 255).astype(np.uint8)))\n",
    "save_image(cropped_tensor, \"cropped_parrot.jpg\")\n",
    "\n",
    "print(\"Изображение успешно обрезано и сохранено как 'cropped_parrot.jpg'\")"
   ]
  },
  {
   "cell_type": "code",
   "execution_count": null,
   "id": "821438ad",
   "metadata": {},
   "outputs": [],
   "source": []
  }
 ],
 "metadata": {
  "kernelspec": {
   "display_name": "Python 3",
   "language": "python",
   "name": "python3"
  },
  "language_info": {
   "codemirror_mode": {
    "name": "ipython",
    "version": 3
   },
   "file_extension": ".py",
   "mimetype": "text/x-python",
   "name": "python",
   "nbconvert_exporter": "python",
   "pygments_lexer": "ipython3",
   "version": "3.13.1"
  }
 },
 "nbformat": 4,
 "nbformat_minor": 5
}
